{
 "cells": [
  {
   "cell_type": "code",
   "execution_count": 1,
   "metadata": {},
   "outputs": [],
   "source": [
    "import pandas as pd\n",
    "import math\n",
    "import numpy as np\n",
    "import matplotlib.pyplot as mp\n",
    "file = pd.read_csv('wrk.csv')\n",
    "    "
   ]
  },
  {
   "cell_type": "code",
   "execution_count": 2,
   "metadata": {},
   "outputs": [],
   "source": [
    "wrk_file = pd.DataFrame(file)"
   ]
  },
  {
   "cell_type": "code",
   "execution_count": 3,
   "metadata": {},
   "outputs": [
    {
     "name": "stdout",
     "output_type": "stream",
     "text": [
      "[295, 300, 305, 310, 315, 320, 325, 330, 335, 340, 345, 350, 355, 360, 365, 370]\n",
      "[269.1, 272.6, 276.0, 275.9, 270.9, 260.0, 245.3, 225.9, 204.2, 182.5, 162.1, 143.5, 126.2, 112.0, 99.9, 91.3]\n"
     ]
    }
   ],
   "source": [
    "temperature_k = wrk_file['T(K)'].to_list() \n",
    "voltage = wrk_file['Voltage(mV)'].to_list()\n",
    "print(temperature_k)\n",
    "print(voltage)"
   ]
  },
  {
   "cell_type": "code",
   "execution_count": 4,
   "metadata": {},
   "outputs": [
    {
     "name": "stdout",
     "output_type": "stream",
     "text": [
      "[67.63220664648108, 68.51185258948622, 69.36636579126262, 69.3412330500339, 68.08459598859798, 65.3451271946677, 61.65061423404611, 56.77486243567474, 51.32105758904286, 45.867252742410976, 40.74017353175244, 36.06548366321083, 31.71751943064255, 28.14867017616455, 25.107608487489628, 22.946192741819846] in ohm-cm\n"
     ]
    }
   ],
   "source": [
    "rho0 = []\n",
    "for r in range(len(voltage)):\n",
    "    rho0.append((voltage[r]/50)*2*(math.pi)*(2))\n",
    "print(rho0, \"in ohm-cm\")"
   ]
  },
  {
   "cell_type": "code",
   "execution_count": 5,
   "metadata": {},
   "outputs": [
    {
     "name": "stdout",
     "output_type": "stream",
     "text": [
      "[5.471861379165136, 5.543030144780439, 5.612165517092445, 5.6101321237891515, 5.508462458624432, 5.2868225885653475, 4.987913772981077, 4.5934354721419695, 4.152189125327093, 3.710942778512215, 3.296130544640165, 2.9179193902274134, 2.566142348757488, 2.277400499689689, 2.03135990999107, 1.8564880859077546]\n"
     ]
    }
   ],
   "source": [
    "rho = []\n",
    "for i in range(len(rho0)):\n",
    "    rho.append(rho0[i]/12.36)\n",
    "print(rho)"
   ]
  },
  {
   "cell_type": "code",
   "execution_count": 32,
   "metadata": {},
   "outputs": [
    {
     "name": "stdout",
     "output_type": "stream",
     "text": [
      "[3.389830508474576, 3.3333333333333335, 3.278688524590164, 3.225806451612903, 3.1746031746031744, 3.125, 3.076923076923077, 3.0303030303030303, 2.985074626865672, 2.941176470588235, 2.898550724637681, 2.857142857142857, 2.8169014084507045, 2.7777777777777777, 2.73972602739726, 2.7027027027027026]\n"
     ]
    }
   ],
   "source": [
    "thsnd_ovr_T =[]\n",
    "for t in range(len(temperature_k)):\n",
    "    thsnd_ovr_T.append(((temperature_k[t])**(-1))*1000)\n",
    "print(thsnd_ovr_T)\n",
    "    "
   ]
  },
  {
   "cell_type": "code",
   "execution_count": 33,
   "metadata": {},
   "outputs": [
    {
     "name": "stdout",
     "output_type": "stream",
     "text": [
      "[0.003389830508474576, 0.0033333333333333335, 0.003278688524590164, 0.0032258064516129032, 0.0031746031746031746, 0.003125, 0.003076923076923077, 0.0030303030303030303, 0.0029850746268656717, 0.0029411764705882353, 0.002898550724637681, 0.002857142857142857, 0.0028169014084507044, 0.002777777777777778, 0.0027397260273972603, 0.002702702702702703]\n"
     ]
    }
   ],
   "source": [
    "one_ovr_T =[]\n",
    "for t in range(len(temperature_k)):\n",
    "    one_ovr_T.append(((temperature_k[t])**(-1)))\n",
    "print(one_ovr_T)"
   ]
  },
  {
   "cell_type": "code",
   "execution_count": 34,
   "metadata": {},
   "outputs": [
    {
     "name": "stdout",
     "output_type": "stream",
     "text": [
      "[0.738135086697035, 0.7437472404319352, 0.749130470998498, 0.7489730894124658, 0.7410303939664484, 0.7231947369040983, 0.6979189371396661, 0.6621376198536433, 0.6182771266841718, 0.5694842577257738, 0.5180044037817954, 0.46507329000329156, 0.40928074384139584, 0.35743941160346204, 0.3077868771592627, 0.2686921664675793]\n"
     ]
    }
   ],
   "source": [
    "Log = []\n",
    "for l in range(len(rho0)):\n",
    "    Log.append(math.log(rho[l], 10))\n",
    "print(Log)"
   ]
  },
  {
   "cell_type": "code",
   "execution_count": 35,
   "metadata": {},
   "outputs": [],
   "source": [
    "wrk_file['rho0'] = rho0"
   ]
  },
  {
   "cell_type": "code",
   "execution_count": 36,
   "metadata": {},
   "outputs": [],
   "source": [
    "wrk_file['rho'] = rho"
   ]
  },
  {
   "cell_type": "code",
   "execution_count": 37,
   "metadata": {},
   "outputs": [],
   "source": [
    "wrk_file['1000/T(K)'] = thsnd_ovr_T "
   ]
  },
  {
   "cell_type": "code",
   "execution_count": 11,
   "metadata": {},
   "outputs": [],
   "source": [
    "wrk_file['log10(rho)'] = Log"
   ]
  },
  {
   "cell_type": "code",
   "execution_count": 12,
   "metadata": {},
   "outputs": [
    {
     "name": "stdout",
     "output_type": "stream",
     "text": [
      "    Tc  T(K)  Voltage(mV)       rho0       rho  1000/T(K)  log10(rho)\n",
      "0   22   295        269.1  67.632207  5.471861   3.389831    0.738135\n",
      "1   27   300        272.6  68.511853  5.543030   3.333333    0.743747\n",
      "2   32   305        276.0  69.366366  5.612166   3.278689    0.749130\n",
      "3   37   310        275.9  69.341233  5.610132   3.225806    0.748973\n",
      "4   42   315        270.9  68.084596  5.508462   3.174603    0.741030\n",
      "5   47   320        260.0  65.345127  5.286823   3.125000    0.723195\n",
      "6   52   325        245.3  61.650614  4.987914   3.076923    0.697919\n",
      "7   57   330        225.9  56.774862  4.593435   3.030303    0.662138\n",
      "8   62   335        204.2  51.321058  4.152189   2.985075    0.618277\n",
      "9   67   340        182.5  45.867253  3.710943   2.941176    0.569484\n",
      "10  72   345        162.1  40.740174  3.296131   2.898551    0.518004\n",
      "11  77   350        143.5  36.065484  2.917919   2.857143    0.465073\n",
      "12  82   355        126.2  31.717519  2.566142   2.816901    0.409281\n",
      "13  87   360        112.0  28.148670  2.277400   2.777778    0.357439\n",
      "14  92   365         99.9  25.107608  2.031360   2.739726    0.307787\n",
      "15  97   370         91.3  22.946193  1.856488   2.702703    0.268692\n"
     ]
    }
   ],
   "source": [
    "print(wrk_file)"
   ]
  },
  {
   "cell_type": "code",
   "execution_count": 38,
   "metadata": {},
   "outputs": [],
   "source": [
    "y = Log\n",
    "x = thsnd_ovr_T"
   ]
  },
  {
   "cell_type": "code",
   "execution_count": 39,
   "metadata": {},
   "outputs": [
    {
     "data": {
      "image/png": "[encoded data removed]",
      "text/plain": [
       "<Figure size 432x288 with 1 Axes>"
      ]
     },
     "metadata": {
      "needs_background": "light"
     },
     "output_type": "display_data"
    }
   ],
   "source": [
    "mp.plot(x,y, color = 'b')\n",
    "mp.xlabel('1000/T(K)')\n",
    "mp.ylabel('log10(rho)')\n",
    "mp.show()"
   ]
  },
  {
   "cell_type": "code",
   "execution_count": 42,
   "metadata": {},
   "outputs": [
    {
     "name": "stdout",
     "output_type": "stream",
     "text": [
      "0.7393041911527146\n"
     ]
    },
    {
     "data": {
      "image/png": "[encoded data removed]",
      "text/plain": [
       "<Figure size 432x288 with 1 Axes>"
      ]
     },
     "metadata": {
      "needs_background": "light"
     },
     "output_type": "display_data"
    }
   ],
   "source": [
    "\n",
    "xi = np.array(x)\n",
    "yi = np.array(y)\n",
    "slope, intercept = np.polyfit(xi,yi,1)\n",
    "m = slope\n",
    "b = intercept\n",
    "mp.plot(xi, m*xi + b)\n",
    "mp.plot(xi, yi, 'o')\n",
    "print(slope)"
   ]
  },
  {
   "cell_type": "code",
   "execution_count": 56,
   "metadata": {},
   "outputs": [
    {
     "name": "stdout",
     "output_type": "stream",
     "text": [
      "1.2782863977508687\n",
      "0.46507329000329156 0.5180044037817954 2.857142857142857 2.898550724637681\n"
     ]
    }
   ],
   "source": [
    "print((y[11]-y[10])/(x[11]-x[10]))\n",
    "print(y[11], y[10], x[11], x[10])"
   ]
  },
  {
   "cell_type": "code",
   "execution_count": 57,
   "metadata": {},
   "outputs": [],
   "source": [
    "wrk_file.to_csv('observation_table.csv')"
   ]
  },
  {
   "cell_type": "code",
   "execution_count": 1,
   "metadata": {},
   "outputs": [
    {
     "data": {
      "text/plain": [
       "0.5074391015311023"
      ]
     },
     "execution_count": 1,
     "metadata": {},
     "output_type": "execute_result"
    }
   ],
   "source": [
    "1.2782863977508687 * (8.62*2)*2.3026*((10)**3)*((10)**(-5)) #using the formula for calculation of band gap."
   ]
  }
 ],
 "metadata": {
  "kernelspec": {
   "display_name": "Python 3",
   "language": "python",
   "name": "python3"
  },
  "language_info": {
   "codemirror_mode": {
    "name": "ipython",
    "version": 3
   },
   "file_extension": ".py",
   "mimetype": "text/x-python",
   "name": "python",
   "nbconvert_exporter": "python",
   "pygments_lexer": "ipython3",
   "version": "3.7.6"
  }
 },
 "nbformat": 4,
 "nbformat_minor": 4
}
